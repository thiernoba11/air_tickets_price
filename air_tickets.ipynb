{
 "cells": [
  {
   "cell_type": "code",
   "execution_count": 1,
   "metadata": {},
   "outputs": [],
   "source": [
    "import json\n",
    "import pandas as pd\n",
    "import os\n",
    "from tqdm.notebook import tqdm"
   ]
  },
  {
   "cell_type": "code",
   "execution_count": 2,
   "metadata": {},
   "outputs": [],
   "source": [
    "def get_filepaths(rootdir='.', filetypes=['txt']):\n",
    "    \n",
    "    \"\"\"\n",
    "    Returns the path-string of all the json files in the given root dirctory.\n",
    "\n",
    "    Usage:\n",
    "        from utils import get_filepaths\n",
    "\n",
    "        get_filepaths(rootdir='~/path/to/dir', filetypes=['txt'])\n",
    "\n",
    "    Parameters:\n",
    "        rootdir:\n",
    "              The directory where the files are read from.\n",
    "              The default is '.'\n",
    "\n",
    "        filetypes:\n",
    "              A list containing the string form of the file types to read.\n",
    "              Default: ['txt']  reads all text files\n",
    "              pass an empty list [] for reading all file types\n",
    "\n",
    "    This function raises an exception if the given path does not exist in the local system.\n",
    "    \"\"\"\n",
    "    # If found, remove the '/' at the end of rootdir \n",
    "    if rootdir[-1] == os.sep:\n",
    "        rootdir = rootdir[:-1]\n",
    "\n",
    "    # If the directory does not exist on the user system, then raise an exception error\n",
    "    if os.path.exists(rootdir) is False:\n",
    "        raise Exception(f\"Directory `{rootdir}` does not exist.\")\n",
    "\n",
    "    # Go through the folder structure and add to filepaths list\n",
    "    filepaths = []\n",
    "    # Convert filetypes to lower case\n",
    "    filetypes = [ftype.lower() for ftype in filetypes]\n",
    "\n",
    "    for (dirpath, dirnames, filenames) in os.walk(rootdir):\n",
    "        for filename in filenames:\n",
    "            # if filename is in given filetypes\n",
    "            if filetypes == []:\n",
    "                filepaths.append(os.path.join(dirpath, filename))\n",
    "            else:\n",
    "                # Split the filename with . and check if it is the desired extension\n",
    "                if filename.split('.')[-1].lower() in filetypes:\n",
    "                    filepaths.append(os.path.join(dirpath, filename))\n",
    "\n",
    "    # return the filepaths list\n",
    "    return filepaths"
   ]
  },
  {
   "cell_type": "code",
   "execution_count": 3,
   "metadata": {},
   "outputs": [],
   "source": [
    "filepaths = get_filepaths('./dataset1')\n",
    "filepaths.extend(get_filepaths('./dataset2'))"
   ]
  },
  {
   "cell_type": "code",
   "execution_count": 4,
   "metadata": {},
   "outputs": [],
   "source": [
    "all_data = []"
   ]
  },
  {
   "cell_type": "code",
   "execution_count": 5,
   "metadata": {},
   "outputs": [],
   "source": [
    "for fp in tqdm(filepaths):\n",
    "    data = json.load(open(fp, 'r'))\n",
    "    all_data.extend(data)"
   ]
  },
  {
   "cell_type": "code",
   "execution_count": 6,
   "metadata": {},
   "outputs": [],
   "source": [
    "# df = pd.DataFrame(all_data)"
   ]
  },
  {
   "cell_type": "code",
   "execution_count": 10,
   "metadata": {},
   "outputs": [],
   "source": [
    "df = df.explode(column='Flights').dropna()\n",
    "df.reset_index(inplace=True, drop=True)\n",
    "df = pd.concat([df.drop(['Flights'], axis=1), df['Flights'].apply(pd.Series)], axis=1)"
   ]
  },
  {
   "cell_type": "code",
   "execution_count": null,
   "metadata": {},
   "outputs": [],
   "source": [
    "df.to_csv('airtickets.csv')"
   ]
  }
 ],
 "metadata": {
  "kernelspec": {
   "display_name": "Python 3",
   "language": "python",
   "name": "python3"
  },
  "language_info": {
   "codemirror_mode": {
    "name": "ipython",
    "version": 3
   },
   "file_extension": ".py",
   "mimetype": "text/x-python",
   "name": "python",
   "nbconvert_exporter": "python",
   "pygments_lexer": "ipython3",
   "version": "3.8.5"
  }
 },
 "nbformat": 4,
 "nbformat_minor": 4
}
